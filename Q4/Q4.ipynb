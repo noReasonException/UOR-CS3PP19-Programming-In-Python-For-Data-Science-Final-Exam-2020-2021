{
 "cells": [
  {
   "cell_type": "code",
   "execution_count": 212,
   "metadata": {},
   "outputs": [],
   "source": [
    "import pandas as pd\n",
    "from sklearn.linear_model import LogisticRegression\n",
    "from sklearn import svm\n",
    "from sklearn import datasets\n",
    "import matplotlib.pyplot as plt\n",
    "from sklearn.model_selection import train_test_split\n",
    "from sklearn.metrics import mean_squared_error,r2_score\n",
    "import numpy as np\n",
    "from sklearn.metrics import confusion_matrix\n",
    "import seaborn as sns\n",
    "data=pd.read_csv(\"data.csv\")"
   ]
  },
  {
   "cell_type": "code",
   "execution_count": 158,
   "metadata": {},
   "outputs": [],
   "source": [
    "data=data.dropna()\n",
    "data=data.drop_duplicates()\n",
    "original=data.copy()"
   ]
  },
  {
   "cell_type": "code",
   "execution_count": 159,
   "metadata": {},
   "outputs": [],
   "source": [
    "#train,test,ttrain,ttest=train_test_split()\n",
    "target=data['grade']\n",
    "data=data.drop(['grade'],axis=1)"
   ]
  },
  {
   "cell_type": "code",
   "execution_count": 160,
   "metadata": {},
   "outputs": [],
   "source": [
    "mapping = {\n",
    "    \"school\":{\"MS\":0,\"GP\":1},\n",
    "    \"sex\":{\"M\":0,\"F\":1},\n",
    "    \"address\":{\"U\":0,\"R\":1},\n",
    "    \"famsize\":{\"LE3\":0,\"GT3\":1},\n",
    "    \"Pstatus\":{\"T\":0,\"A\":1},\n",
    "    \"Mjob\":{\"teacher\":0,\"health\":1,\"services\":2,\"at_home\":3,\"other\":4},\n",
    "    \"Fjob\":{\"teacher\":0,\"health\":1,\"services\":2,\"at_home\":3,\"other\":4},\n",
    "    \"reason\":{\"home\":0,\"reputation\":1,\"course\":2,\"other\":3},\n",
    "    \"guardian\":{\"father\":0,\"mother\":1,\"other\":2},\n",
    "    \"schoolsup\":{\"yes\":0,\"no\":1},\n",
    "    \"famsup\":{\"yes\":0,\"no\":1},\n",
    "    \"paid\":{\"yes\":0,\"no\":1},\n",
    "    \"activities\":{\"yes\":0,\"no\":1},\n",
    "    \"nursery\":{\"yes\":0,\"no\":1},\n",
    "    \"higher\":{\"yes\":0,\"no\":1},\n",
    "    \"internet\":{\"yes\":0,\"no\":1},\n",
    "    \"romantic\":{\"yes\":0,\"no\":1}\n",
    "    \n",
    "}\n",
    "data_numeric=data.replace(mapping)"
   ]
  },
  {
   "cell_type": "code",
   "execution_count": 161,
   "metadata": {},
   "outputs": [],
   "source": [
    "train,ttrain,test,ttest=train_test_split(data_numeric,target,test_size=0.2,random_state=42)"
   ]
  },
  {
   "cell_type": "code",
   "execution_count": null,
   "metadata": {},
   "outputs": [],
   "source": []
  },
  {
   "cell_type": "code",
   "execution_count": 162,
   "metadata": {},
   "outputs": [
    {
     "data": {
      "text/plain": [
       "LogisticRegression(max_iter=500000)"
      ]
     },
     "execution_count": 162,
     "metadata": {},
     "output_type": "execute_result"
    }
   ],
   "source": [
    "model1=LogisticRegression(max_iter=500000)\n",
    "model1.fit(train,test)"
   ]
  },
  {
   "cell_type": "code",
   "execution_count": 163,
   "metadata": {},
   "outputs": [
    {
     "data": {
      "text/plain": [
       "0.42857142857142855"
      ]
     },
     "execution_count": 163,
     "metadata": {},
     "output_type": "execute_result"
    }
   ],
   "source": [
    "model1.score(ttrain,ttest)"
   ]
  },
  {
   "cell_type": "code",
   "execution_count": 164,
   "metadata": {},
   "outputs": [
    {
     "data": {
      "text/plain": [
       "SVC(C=100.0, gamma=0.001)"
      ]
     },
     "execution_count": 164,
     "metadata": {},
     "output_type": "execute_result"
    }
   ],
   "source": [
    "model2=svm.SVC(gamma=0.001, C=100.)\n",
    "model2.fit(train,test)"
   ]
  },
  {
   "cell_type": "code",
   "execution_count": 165,
   "metadata": {},
   "outputs": [
    {
     "data": {
      "text/plain": [
       "0.4"
      ]
     },
     "execution_count": 165,
     "metadata": {},
     "output_type": "execute_result"
    }
   ],
   "source": [
    "model2.score(ttrain,ttest)"
   ]
  },
  {
   "cell_type": "code",
   "execution_count": 166,
   "metadata": {},
   "outputs": [],
   "source": [
    "k=10\n",
    "model1scores=[]\n",
    "for i in range(k):\n",
    "    train,ttrain,test,ttest=train_test_split(data_numeric,target,test_size=0.2,random_state=42+i)\n",
    "    model1=LogisticRegression(max_iter=50000)\n",
    "    model1.fit(train,test)\n",
    "    model1scores.append(model1.score(ttrain,ttest))"
   ]
  },
  {
   "cell_type": "code",
   "execution_count": 167,
   "metadata": {},
   "outputs": [
    {
     "data": {
      "text/plain": [
       "<AxesSubplot:>"
      ]
     },
     "execution_count": 167,
     "metadata": {},
     "output_type": "execute_result"
    },
    {
     "data": {
      "image/png": "[encoded data removed]",
      "text/plain": [
       "<Figure size 432x288 with 1 Axes>"
      ]
     },
     "metadata": {
      "needs_background": "light"
     },
     "output_type": "display_data"
    }
   ],
   "source": [
    "pd.Series(model1scores).plot.box()"
   ]
  },
  {
   "cell_type": "code",
   "execution_count": 168,
   "metadata": {},
   "outputs": [],
   "source": [
    "k=10\n",
    "model2scores=[]\n",
    "for i in range(k):\n",
    "    train,ttrain,test,ttest=train_test_split(data_numeric,target,test_size=0.2,random_state=42+i)\n",
    "    model2=svm.SVC(gamma=0.001, C=100.)\n",
    "    model2.fit(train,test)\n",
    "    model2scores.append(model2.score(ttrain,ttest))"
   ]
  },
  {
   "cell_type": "code",
   "execution_count": 169,
   "metadata": {},
   "outputs": [
    {
     "data": {
      "text/plain": [
       "[0.4,\n",
       " 0.38571428571428573,\n",
       " 0.37142857142857144,\n",
       " 0.38571428571428573,\n",
       " 0.42857142857142855,\n",
       " 0.4142857142857143,\n",
       " 0.34285714285714286,\n",
       " 0.37142857142857144,\n",
       " 0.4142857142857143,\n",
       " 0.4142857142857143]"
      ]
     },
     "execution_count": 169,
     "metadata": {},
     "output_type": "execute_result"
    }
   ],
   "source": [
    "model2scores"
   ]
  },
  {
   "cell_type": "code",
   "execution_count": 170,
   "metadata": {},
   "outputs": [
    {
     "data": {
      "text/plain": [
       "<AxesSubplot:>"
      ]
     },
     "execution_count": 170,
     "metadata": {},
     "output_type": "execute_result"
    },
    {
     "data": {
      "image/png": "[encoded data removed]",
      "text/plain": [
       "<Figure size 432x288 with 1 Axes>"
      ]
     },
     "metadata": {
      "needs_background": "light"
     },
     "output_type": "display_data"
    }
   ],
   "source": [
    "pd.Series(model2scores).plot.box()"
   ]
  },
  {
   "cell_type": "code",
   "execution_count": 171,
   "metadata": {},
   "outputs": [],
   "source": [
    "kfold=pd.DataFrame()\n",
    "kfold['Logistic']=pd.Series(model1scores)\n",
    "kfold['SVM']=pd.Series(model2scores)"
   ]
  },
  {
   "cell_type": "code",
   "execution_count": 172,
   "metadata": {},
   "outputs": [
    {
     "data": {
      "text/plain": [
       "{'whiskers': [<matplotlib.lines.Line2D at 0x7fda849057c0>,\n",
       "  <matplotlib.lines.Line2D at 0x7fda84905b20>,\n",
       "  <matplotlib.lines.Line2D at 0x7fda84911fa0>,\n",
       "  <matplotlib.lines.Line2D at 0x7fda8491a340>],\n",
       " 'caps': [<matplotlib.lines.Line2D at 0x7fda84905e80>,\n",
       "  <matplotlib.lines.Line2D at 0x7fda84911220>,\n",
       "  <matplotlib.lines.Line2D at 0x7fda8491a6a0>,\n",
       "  <matplotlib.lines.Line2D at 0x7fda8491aa00>],\n",
       " 'boxes': [<matplotlib.lines.Line2D at 0x7fda84905430>,\n",
       "  <matplotlib.lines.Line2D at 0x7fda84911c40>],\n",
       " 'medians': [<matplotlib.lines.Line2D at 0x7fda84911580>,\n",
       "  <matplotlib.lines.Line2D at 0x7fda8491ad60>],\n",
       " 'fliers': [<matplotlib.lines.Line2D at 0x7fda849118e0>,\n",
       "  <matplotlib.lines.Line2D at 0x7fda84632100>],\n",
       " 'means': []}"
      ]
     },
     "execution_count": 172,
     "metadata": {},
     "output_type": "execute_result"
    },
    {
     "data": {
      "image/png": "[encoded data removed]",
      "text/plain": [
       "<Figure size 432x288 with 1 Axes>"
      ]
     },
     "metadata": {
      "needs_background": "light"
     },
     "output_type": "display_data"
    }
   ],
   "source": [
    "plt.boxplot(kfold,labels=['Logistic','SVM'])"
   ]
  },
  {
   "cell_type": "code",
   "execution_count": 173,
   "metadata": {},
   "outputs": [
    {
     "data": {
      "text/plain": [
       "grade\n",
       "A     39\n",
       "B     91\n",
       "C    189\n",
       "D     22\n",
       "E      7\n",
       "Name: grade, dtype: int64"
      ]
     },
     "execution_count": 173,
     "metadata": {},
     "output_type": "execute_result"
    }
   ],
   "source": [
    "original.groupby('grade').grade.count()\n"
   ]
  },
  {
   "cell_type": "code",
   "execution_count": 215,
   "metadata": {},
   "outputs": [
    {
     "data": {
      "text/plain": [
       "<AxesSubplot:>"
      ]
     },
     "execution_count": 215,
     "metadata": {},
     "output_type": "execute_result"
    },
    {
     "data": {
      "image/png": "[encoded data removed]",
      "text/plain": [
       "<Figure size 432x288 with 2 Axes>"
      ]
     },
     "metadata": {
      "needs_background": "light"
     },
     "output_type": "display_data"
    }
   ],
   "source": [
    "train,ttrain,test,ttest=train_test_split(data_numeric,target,test_size=0.2,random_state=42)\n",
    "model1=LogisticRegression(max_iter=500000)\n",
    "model1.fit(train,test)\n",
    "cf_matrix = confusion_matrix(ttest, model1.predict(ttrain))\n",
    "sns.heatmap(cf_matrix,annot=True)"
   ]
  },
  {
   "cell_type": "code",
   "execution_count": null,
   "metadata": {},
   "outputs": [],
   "source": []
  },
  {
   "cell_type": "code",
   "execution_count": 214,
   "metadata": {},
   "outputs": [
    {
     "data": {
      "text/plain": [
       "<AxesSubplot:>"
      ]
     },
     "execution_count": 214,
     "metadata": {},
     "output_type": "execute_result"
    },
    {
     "data": {
      "image/png": "[encoded data removed]",
      "text/plain": [
       "<Figure size 432x288 with 2 Axes>"
      ]
     },
     "metadata": {
      "needs_background": "light"
     },
     "output_type": "display_data"
    }
   ],
   "source": [
    "train,ttrain,test,ttest=train_test_split(data_numeric,target,test_size=0.2,random_state=42)\n",
    "model2=svm.SVC(gamma=0.001, C=100.)\n",
    "model2.fit(train,test)\n",
    "cf_matrix = confusion_matrix(ttest, model2.predict(ttrain))\n",
    "sns.heatmap(cf_matrix,annot=True)"
   ]
  },
  {
   "cell_type": "code",
   "execution_count": null,
   "metadata": {},
   "outputs": [],
   "source": []
  },
  {
   "cell_type": "code",
   "execution_count": null,
   "metadata": {},
   "outputs": [],
   "source": []
  },
  {
   "cell_type": "code",
   "execution_count": null,
   "metadata": {},
   "outputs": [],
   "source": []
  },
  {
   "cell_type": "code",
   "execution_count": null,
   "metadata": {},
   "outputs": [],
   "source": []
  }
 ],
 "metadata": {
  "kernelspec": {
   "display_name": "Python 3",
   "language": "python",
   "name": "python3"
  },
  "language_info": {
   "codemirror_mode": {
    "name": "ipython",
    "version": 3
   },
   "file_extension": ".py",
   "mimetype": "text/x-python",
   "name": "python",
   "nbconvert_exporter": "python",
   "pygments_lexer": "ipython3",
   "version": "3.8.5"
  }
 },
 "nbformat": 4,
 "nbformat_minor": 4
}
